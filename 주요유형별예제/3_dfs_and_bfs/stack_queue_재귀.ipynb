{
  "nbformat": 4,
  "nbformat_minor": 0,
  "metadata": {
    "colab": {
      "name": "stack/queue/재귀.ipynb",
      "provenance": []
    },
    "kernelspec": {
      "name": "python3",
      "display_name": "Python 3"
    }
  },
  "cells": [
    {
      "cell_type": "markdown",
      "metadata": {
        "id": "zde_Pp9eyztZ"
      },
      "source": [
        "## 스택(Stack)\r\n",
        "선입후출(First in Last Out) 구조\r\n",
        "\r\n",
        "\r\n",
        "*   삽입(Push): 밑에서부터 위로\r\n",
        "*   삭제(Pop): 위에서부터 밑으로\r\n",
        "\r\n",
        "\r\n",
        "[코드]\r\n",
        "\r\n",
        "\r\n",
        "*   `append`: 삽입\r\n",
        "*   `pop`: 삭제\r\n",
        "\r\n",
        "\r\n"
      ]
    },
    {
      "cell_type": "code",
      "metadata": {
        "colab": {
          "base_uri": "https://localhost:8080/"
        },
        "id": "Jxc6wmY-yiLy",
        "outputId": "63edcdd0-7dca-4250-e27b-0df4935755f9"
      },
      "source": [
        "# 스택은 리스트로 구현 가능\r\n",
        "stack = []\r\n",
        "\r\n",
        "stack.append(5)\r\n",
        "stack.append(2)\r\n",
        "stack.append(3)\r\n",
        "stack.append(7)\r\n",
        "stack.pop() # 스택 가장 위에 있는 7 삭제\r\n",
        "stack.append(1)\r\n",
        "stack.append(4)\r\n",
        "stack.pop() # 스택 가장 위에 있는 4 삭제\r\n",
        "\r\n",
        "print(stack)"
      ],
      "execution_count": 1,
      "outputs": [
        {
          "output_type": "stream",
          "text": [
            "[5, 2, 3, 1]\n"
          ],
          "name": "stdout"
        }
      ]
    },
    {
      "cell_type": "markdown",
      "metadata": {
        "id": "r0BFdEG3CFKn"
      },
      "source": [
        "## 큐(Queue)\r\n",
        "선입선출(First In First Out) 구조\r\n",
        "\r\n",
        "\r\n",
        "*   먼저 입력된 값이 먼저 처리됨\r\n",
        "\r\n",
        "[코드]\r\n",
        "*   deque 로 큐 구현\r\n",
        "*   `append`: 삽입\r\n",
        "*   `popleft`: 삭제 (Stack과 달리 앞에 입력된 값부터 삭제)\r\n",
        "\r\n"
      ]
    },
    {
      "cell_type": "code",
      "metadata": {
        "colab": {
          "base_uri": "https://localhost:8080/"
        },
        "id": "aepzhnrqCnj-",
        "outputId": "7a1cae3c-4fcd-4e48-8b12-e4355a00a93e"
      },
      "source": [
        "from collections import deque\r\n",
        "\r\n",
        "queue = deque()\r\n",
        "\r\n",
        "queue.append(5)\r\n",
        "queue.append(2)\r\n",
        "queue.append(3)\r\n",
        "queue.append(7)\r\n",
        "queue.popleft() # 가장 먼저 입력된 5 제거\r\n",
        "queue.append(1)\r\n",
        "queue.append(4)\r\n",
        "queue.popleft() # 두번째로 먼저 입력된 2 제거\r\n",
        "\r\n",
        "print(queue)"
      ],
      "execution_count": 2,
      "outputs": [
        {
          "output_type": "stream",
          "text": [
            "deque([3, 7, 1, 4])\n"
          ],
          "name": "stdout"
        }
      ]
    },
    {
      "cell_type": "markdown",
      "metadata": {
        "id": "63BeCWnPC_EX"
      },
      "source": [
        "## 재귀함수(Recursive Function)\r\n",
        "자기 자신을 다시 호출하는 함수\r\n",
        "\r\n",
        "\r\n",
        "\r\n",
        "*   점화식을 이용하면 간단하게 함수 생성이 가능하다.\r\n",
        "*   스택(Stack)과 구조가 동일하다. (가장 나중에 호출된 함수의 실행이 끝나야 앞서 호출된 함수 실행 가능하기 때문)\r\n",
        "\r\n",
        "\r\n",
        "*   주의: 자기 자신을 무한으로 호출할 수 있기 때문에 **종료조건**을 반드시 명시해야함\r\n",
        "\r\n",
        "\r\n"
      ]
    },
    {
      "cell_type": "code",
      "metadata": {
        "id": "1tAIR_0MC57K"
      },
      "source": [
        "# factorial 계산하기\r\n",
        "def factorial(n):\r\n",
        "  if n <= 1:\r\n",
        "    return 1\r\n",
        "  return n * factorial(n-1)"
      ],
      "execution_count": 3,
      "outputs": []
    },
    {
      "cell_type": "code",
      "metadata": {
        "colab": {
          "base_uri": "https://localhost:8080/"
        },
        "id": "RQMLTy2DERQx",
        "outputId": "01affb83-5b61-41a9-9968-6a7cc6e11ede"
      },
      "source": [
        "factorial(6)"
      ],
      "execution_count": 4,
      "outputs": [
        {
          "output_type": "execute_result",
          "data": {
            "text/plain": [
              "720"
            ]
          },
          "metadata": {
            "tags": []
          },
          "execution_count": 4
        }
      ]
    },
    {
      "cell_type": "code",
      "metadata": {
        "id": "rQdLK49qE1qU"
      },
      "source": [
        "# 피보나치수열\r\n",
        "def fibo(n):\r\n",
        "  if n <=2 :\r\n",
        "    return 1\r\n",
        "  return fibo(n-1) + fibo(n-2)"
      ],
      "execution_count": 5,
      "outputs": []
    },
    {
      "cell_type": "code",
      "metadata": {
        "id": "FaZm4_9yFzat",
        "outputId": "5012a426-ac46-4960-c870-c2589cd2aefb",
        "colab": {
          "base_uri": "https://localhost:8080/"
        }
      },
      "source": [
        "fibo(6)"
      ],
      "execution_count": 6,
      "outputs": [
        {
          "output_type": "execute_result",
          "data": {
            "text/plain": [
              "8"
            ]
          },
          "metadata": {
            "tags": []
          },
          "execution_count": 6
        }
      ]
    }
  ]
}
