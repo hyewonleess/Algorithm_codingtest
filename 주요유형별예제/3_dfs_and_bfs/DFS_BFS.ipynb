{
  "nbformat": 4,
  "nbformat_minor": 0,
  "metadata": {
    "colab": {
      "name": "DFS/BFS.ipynb",
      "provenance": []
    },
    "kernelspec": {
      "name": "python3",
      "display_name": "Python 3"
    }
  },
  "cells": [
    {
      "cell_type": "markdown",
      "metadata": {
        "id": "zKXSRulb1xEi"
      },
      "source": [
        "## DFS(Depth-First Search)\r\n",
        "그래프의 깊은 부분부터 우선적으로 탐색하는 알고리즘\r\n",
        "\r\n",
        "\r\n",
        "*   스택 구조\r\n",
        "*   재귀함수 이용\r\n",
        "\r\n"
      ]
    },
    {
      "cell_type": "code",
      "metadata": {
        "id": "N4zJS-k21k8Q"
      },
      "source": [
        "def dfs(graph, start, visited):\r\n",
        "  # 시작노드를 방문처리\r\n",
        "  visited[start] = True\r\n",
        "  # 시작노드 출력\r\n",
        "  print(start, end = ' ')\r\n",
        "  \r\n",
        "  # 시작노드에 연결된 노드 탐색 --> 방문처리 되어있지 않은 노드를 방문처리\r\n",
        "  for i in graph[start]:\r\n",
        "    if not visited[i]:\r\n",
        "      dfs(graph, i, visited)"
      ],
      "execution_count": 3,
      "outputs": []
    },
    {
      "cell_type": "code",
      "metadata": {
        "colab": {
          "base_uri": "https://localhost:8080/"
        },
        "id": "uQKOILj11-2T",
        "outputId": "3f16d6a7-e92d-4096-8d02-217475392dee"
      },
      "source": [
        "graph = [[],\r\n",
        "         [2, 3, 8],\r\n",
        "         [1, 7],\r\n",
        "         [1, 4, 5],\r\n",
        "         [3, 5],\r\n",
        "         [3, 4],\r\n",
        "         [7],\r\n",
        "         [2, 6, 8],\r\n",
        "         [1, 7]]\r\n",
        "\r\n",
        "visited = [False] * 9\r\n",
        "\r\n",
        "dfs(graph, 1, visited)"
      ],
      "execution_count": 4,
      "outputs": [
        {
          "output_type": "stream",
          "text": [
            "1 2 7 6 8 3 4 5 "
          ],
          "name": "stdout"
        }
      ]
    },
    {
      "cell_type": "markdown",
      "metadata": {
        "id": "28MIMJg73tWj"
      },
      "source": [
        "## BFS(Breadth First Search)\r\n",
        "그래프의 가까운 부분부터 탐색하는 알고리즘\r\n",
        "\r\n",
        "\r\n",
        "*   큐 구조\r\n",
        "*   일반적으로 DFS보다 소요시간 적음\r\n",
        "\r\n"
      ]
    },
    {
      "cell_type": "code",
      "metadata": {
        "id": "Y0k1AIqy4Tcm"
      },
      "source": [
        "from collections import deque\r\n",
        "\r\n",
        "def bfs(graph, start, visited):\r\n",
        "  queue = deque([start])\r\n",
        "  visited[start] = True\r\n",
        "\r\n",
        "  while queue:\r\n",
        "    v = queue.popleft() # 먼저 방문처리된 노드 제거\r\n",
        "    print(v, end = ' ')\r\n",
        "    \r\n",
        "    for i in graph[v]:\r\n",
        "      if not visited[i]:\r\n",
        "        queue.append(i)\r\n",
        "        visited[i] = True"
      ],
      "execution_count": 8,
      "outputs": []
    },
    {
      "cell_type": "code",
      "metadata": {
        "colab": {
          "base_uri": "https://localhost:8080/"
        },
        "id": "UpCC--7H553O",
        "outputId": "84554c80-1c74-4f45-80b4-92c24263a970"
      },
      "source": [
        "visited = [False]*9\r\n",
        "bfs(graph, 1, visited)"
      ],
      "execution_count": 9,
      "outputs": [
        {
          "output_type": "stream",
          "text": [
            "1 2 3 8 7 4 5 6 "
          ],
          "name": "stdout"
        }
      ]
    }
  ]
}