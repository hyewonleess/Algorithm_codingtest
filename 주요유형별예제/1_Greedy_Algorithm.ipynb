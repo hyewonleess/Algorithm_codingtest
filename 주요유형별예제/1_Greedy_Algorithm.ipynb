{
  "nbformat": 4,
  "nbformat_minor": 0,
  "metadata": {
    "colab": {
      "name": "1. Greedy Algorithm.ipynb",
      "provenance": [],
      "collapsed_sections": []
    },
    "kernelspec": {
      "name": "python3",
      "display_name": "Python 3"
    }
  },
  "cells": [
    {
      "cell_type": "markdown",
      "metadata": {
        "id": "Ux4AaYIwSrj6"
      },
      "source": [
        "# 그리디 알고리즘\r\n",
        "\r\n",
        "\r\n",
        "> 현재 상황에서 가장 좋은 방법을 선택하는 알고리즘\r\n",
        "\r\n",
        "\r\n"
      ]
    },
    {
      "cell_type": "markdown",
      "metadata": {
        "id": "kbj0YfAfS8ae"
      },
      "source": [
        "## 1. 거스름돈 문제\r\n",
        "\r\n",
        "\r\n",
        "> 카운터에는 거스름돈으로 사용할 500원, 100원, 50원, 10원이 무한히 존재한다고 가정한다. 손님에게 거슬러 줘야 할 돈이 N원일 때, 거슬러 줘야 할 동전의 최소 개수를 구하라.(단 거슬러 줘야 할 돈 N은 항상 10의 배수이다.)\r\n",
        "\r\n",
        "\r\n",
        "\r\n",
        "*   IDEA: 동전 개수를 최소화하기 위해 가장 금액이 큰 동전부터 거슬러준다.\r\n",
        "\r\n",
        "\r\n",
        "\r\n",
        "\r\n"
      ]
    },
    {
      "cell_type": "code",
      "metadata": {
        "colab": {
          "base_uri": "https://localhost:8080/"
        },
        "id": "oV1W9VHjSrSO",
        "outputId": "60e22605-7798-46aa-abfd-c7c4c5f348fb"
      },
      "source": [
        "n = int(input())\r\n",
        "count = 0 # count: 동전의 개수\r\n",
        "coins = [500, 100, 50, 10]\r\n",
        "\r\n",
        "for coin in coins:\r\n",
        "  count += n // coin\r\n",
        "  n %= coin\r\n",
        "\r\n",
        "print(count)"
      ],
      "execution_count": 1,
      "outputs": [
        {
          "output_type": "stream",
          "text": [
            "1260\n",
            "6\n"
          ],
          "name": "stdout"
        }
      ]
    },
    {
      "cell_type": "markdown",
      "metadata": {
        "id": "VWbaTg3yUEqU"
      },
      "source": [
        "## 2. 큰 수의 법칙\r\n",
        "\r\n",
        "\r\n",
        "> 다양한 수로 이루어진 배열이 있을 때 주어진 수들을 M번 더하여 가장 큰수를 만드는 법칙이다. 단, 배열의 특정한수가 연속해서 K번을 초과하여 더해줄 수 없는 것이 이 법칙의 특징이다.\r\n",
        "\r\n",
        "\r\n",
        "*   IDEA: 가장 큰 두 수를 선택한 후 두 수가 더해지는 수를 각각 구한다.\r\n",
        "\r\n",
        "\r\n"
      ]
    },
    {
      "cell_type": "code",
      "metadata": {
        "colab": {
          "base_uri": "https://localhost:8080/"
        },
        "id": "KoaIIxZDShXd",
        "outputId": "d980fb91-ea75-45ff-a8e3-6bae9855199d"
      },
      "source": [
        "N, M, K = map(int, input().split())\r\n",
        "nums = list(map(int, input().split()))\r\n",
        "\r\n",
        "# 정렬(작은수 -> 큰수)\r\n",
        "nums.sort()\r\n",
        "first = nums[-1]; second = nums[-2]\r\n",
        "\r\n",
        "first_count = int(M / (K+1)) * K\r\n",
        "first_count += M % (K+1)\r\n",
        "\r\n",
        "second_count = M - first_count\r\n",
        "\r\n",
        "total = first_count * first + second_count * second\r\n",
        "print(total)"
      ],
      "execution_count": 2,
      "outputs": [
        {
          "output_type": "stream",
          "text": [
            "5 8 3\n",
            "2 4 5 4 6\n",
            "46\n"
          ],
          "name": "stdout"
        }
      ]
    },
    {
      "cell_type": "markdown",
      "metadata": {
        "id": "oaHSZZGT4l1L"
      },
      "source": [
        "## 3. 숫자 카드 게임\r\n",
        "\r\n",
        "\r\n",
        "> 숫자 카드 게임의 룰은 다음과 같다.\r\n",
        "\r\n",
        "1.   숫자가 쓰인 카드들이 N x M 형태로 놓여있다.\r\n",
        "2.   먼저 뽑고자 하는 카드가 있는 행을 선택한다.\r\n",
        "3.   그다음 선택된 행에 포함된 카드들 중 가장 숫자가 낮은 카드를 뽑아야 한다.\r\n",
        "4.   최종적으로는 가장 높은 숫자의 카드를 뽑을 수 있도록 전략을 세워야 한다.\r\n",
        "\r\n",
        "\r\n",
        "*   IDEA: N개의 행에서 각각 최솟값을 찾은 후, 최솟값끼리 비교하여 최댓값을 찾는다.\r\n",
        "\r\n",
        "\r\n",
        "\r\n"
      ]
    },
    {
      "cell_type": "code",
      "metadata": {
        "colab": {
          "base_uri": "https://localhost:8080/"
        },
        "id": "VfN2NC_r4lhU",
        "outputId": "cd5fbf41-fb55-400e-d0ad-5c603be20248"
      },
      "source": [
        "N, M = map(int, input().split())\r\n",
        "\r\n",
        "max_num = 0\r\n",
        "for i in range(N):\r\n",
        "  nums = list(map(int, input().split()))\r\n",
        "  min_num = min(nums)\r\n",
        "  max_num = max(min_num, max_num)\r\n",
        "\r\n",
        "print(max_num)"
      ],
      "execution_count": 3,
      "outputs": [
        {
          "output_type": "stream",
          "text": [
            "3 3 \n",
            "3 1 2\n",
            "4 1 4\n",
            "2 2 2\n",
            "2\n"
          ],
          "name": "stdout"
        }
      ]
    },
    {
      "cell_type": "markdown",
      "metadata": {
        "id": "iXfn-ROM6LBo"
      },
      "source": [
        "## 4. 1이 될 때까지\r\n",
        "\r\n",
        "\r\n",
        "> 어떠한 수 N이 1이 될때까지 다음의 두 과정 중 하나를 반복적으로 선택하여 수행하려고 한다. \r\n",
        "\r\n",
        "\r\n",
        "1.   N에서 1을 뺀다\r\n",
        "2.   N을 K로 나눈다\r\n",
        "\r\n",
        "\r\n",
        "\r\n",
        "> M과 K가 주어졌을 때, N이 1이 될떄까지 1번 혹은 2번을 수행해야 하는 최소 횟수를 구하는 프로그램을 작성하시오.\r\n",
        "\r\n",
        "\r\n",
        "*   IDEA: 2번 과정을 최대한 많이 수행하는 것이 횟수를 최소화하는 방법이다.\r\n",
        "\r\n",
        "\r\n",
        "\r\n",
        "\r\n",
        "\r\n",
        "\r\n",
        "\r\n",
        "\r\n",
        "\r\n"
      ]
    },
    {
      "cell_type": "code",
      "metadata": {
        "colab": {
          "base_uri": "https://localhost:8080/"
        },
        "id": "1z4lQx9U6qv-",
        "outputId": "9487636f-d245-459b-c9e0-73196f46ca0b"
      },
      "source": [
        "# simple solution\r\n",
        "N, K = map(int, input().split())\r\n",
        "\r\n",
        "count = 0\r\n",
        "while N >= K:\r\n",
        "  while N % K != 0:\r\n",
        "    N -= 1\r\n",
        "    count += 1\r\n",
        "  N //= K\r\n",
        "  count += 1\r\n",
        "\r\n",
        "while N > 1:\r\n",
        "  N -= 1\r\n",
        "  count +=1\r\n",
        "\r\n",
        "print(count)"
      ],
      "execution_count": 5,
      "outputs": [
        {
          "output_type": "stream",
          "text": [
            "25 5\n",
            "2\n"
          ],
          "name": "stdout"
        }
      ]
    },
    {
      "cell_type": "code",
      "metadata": {
        "colab": {
          "base_uri": "https://localhost:8080/"
        },
        "id": "c1TUyqoz73_-",
        "outputId": "9ec3801e-93b9-4c41-afd1-83cffd2146e0"
      },
      "source": [
        "# time-saving solution\r\n",
        "N, K = map(int, input().split())\r\n",
        "count = 0\r\n",
        "\r\n",
        "while True:\r\n",
        "  mul = (N//K)*K\r\n",
        "  count += (N-mul) # 1을 뺀 횟수\r\n",
        "  N = mul\r\n",
        "\r\n",
        "  if N < K:\r\n",
        "    break\r\n",
        "  \r\n",
        "  N //= K\r\n",
        "  count += 1\r\n",
        "\r\n",
        "# N<K 일때 나머지 1 빼는 과정 계산\r\n",
        "count += (N-1)\r\n",
        "  \r\n",
        "print(count)"
      ],
      "execution_count": 12,
      "outputs": [
        {
          "output_type": "stream",
          "text": [
            "25 5\n",
            "3\n"
          ],
          "name": "stdout"
        }
      ]
    }
  ]
}
