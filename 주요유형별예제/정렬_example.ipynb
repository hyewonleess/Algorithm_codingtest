{
  "nbformat": 4,
  "nbformat_minor": 0,
  "metadata": {
    "colab": {
      "name": "정렬_example.ipynb",
      "provenance": [],
      "collapsed_sections": []
    },
    "kernelspec": {
      "name": "python3",
      "display_name": "Python 3"
    },
    "language_info": {
      "name": "python"
    }
  },
  "cells": [
    {
      "cell_type": "markdown",
      "metadata": {
        "id": "g6mriYdzjCRW"
      },
      "source": [
        "# 정렬\n",
        "정렬을 말 그대로 특정한 기준에 따라 데이터를 나열하는 것을 말한다.\n",
        "\n",
        "이 책에서 다루는 정렬 방법은 총 4가지로, **선택정렬, 삽입정렬, 퀵정렬, 계수정렬**이다."
      ]
    },
    {
      "cell_type": "markdown",
      "metadata": {
        "id": "LXzgBp6ojVHP"
      },
      "source": [
        "## 1. 선택정렬\n",
        "선택정렬의 알고리즘은 다음과 같다.\n",
        " 1. 나열된 데이터 중 가장 작은 데이터를 맨 앞데이터와 바꾼다.\n",
        " 2. 그 다음 작은 데이터 찾아 맨 앞에서 두번째에 위치한 데이터와 바꾼다.\n",
        " ...\n",
        "\n",
        " 이렇게 이어간다\n",
        "\n",
        "<br>\n",
        "\n",
        "**예제** <br>\n",
        "7, 5, 9, 0, 3, 1, 6, 2, 4, 8 을 오름차순으로 나열하는 선택정렬 알고리즘을 구현하라."
      ]
    },
    {
      "cell_type": "code",
      "metadata": {
        "colab": {
          "base_uri": "https://localhost:8080/"
        },
        "id": "gwLoWurYh-mu",
        "outputId": "7e392fc4-7cfd-4471-b351-b0fd61cbc87f"
      },
      "source": [
        "data = [7, 5, 9, 0, 3, 1, 6, 2, 4, 8]\n",
        "\n",
        "for i in range(len(data)): # 맨 앞에서부터 순서대로 바꿔지는 데이터\n",
        "  min_idx = i \n",
        "  for j in range(i+1, len(data)):\n",
        "    if data[min_idx] > data[j]:\n",
        "      min_idx = j # min_idx 업데이트하면서 찾기\n",
        "    data[i], data[min_idx] = data[min_idx], data[i]  # swap\n",
        "\n",
        "print(data)"
      ],
      "execution_count": 2,
      "outputs": [
        {
          "output_type": "stream",
          "text": [
            "[0, 1, 2, 3, 5, 6, 7, 8, 4, 9]\n"
          ],
          "name": "stdout"
        }
      ]
    },
    {
      "cell_type": "markdown",
      "metadata": {
        "id": "P7zZBkZHlG3C"
      },
      "source": [
        "## 2. 삽입정렬\n",
        "삽입정렬은 말 그대로 특정한 데이터를 적절한 위치에 삽입하는 정렬 방법이다. 삽입정렬의 또다른 특징은 특정한 데이터가 적절 위치에 들어가기 이전에 데이터는 이미 정렬되어있다고 가정한다.\n",
        "\n",
        " 1. 맨 앞에 위치한 데이터는 이미 정렬되었다고 가정\n",
        " 2. 적절한 위치를 찾은 뒤 삽입"
      ]
    },
    {
      "cell_type": "code",
      "metadata": {
        "colab": {
          "base_uri": "https://localhost:8080/"
        },
        "id": "j_XxNSzsl3hb",
        "outputId": "3ff40c01-4fb7-4f6e-9efd-9d5e20f9b3fe"
      },
      "source": [
        "data = [7, 5, 9, 0, 3, 1, 6, 2, 4, 8]\n",
        "\n",
        "for i in range(1, len(data)): # 맨 앞 데이터인 7 제외하고 모든 데이터에 대해 삽입정렬 시행\n",
        "  for j in range(i, 0, -1): # 역순으로 indexing\n",
        "    if data[j] < data[j-1]: # j번째보다 앞에 있는 데이터가 더 크면 \n",
        "      data[j-1], data[j] = data[j], data[j-1] # j번째를 j-1번째보다 왼쪽에 삽입. 즉, swap 진행\n",
        "    else: # j번째보다 작은 데이터가 없으면 그대로 위치\n",
        "      break\n",
        "\n",
        "print(data)"
      ],
      "execution_count": 4,
      "outputs": [
        {
          "output_type": "stream",
          "text": [
            "[0, 1, 2, 3, 4, 5, 6, 7, 8, 9]\n"
          ],
          "name": "stdout"
        }
      ]
    },
    {
      "cell_type": "markdown",
      "metadata": {
        "id": "wwm6MjP8nhdJ"
      },
      "source": [
        "## 3. 퀵정렬\n",
        "알고리즘\n",
        " 1. 데이터 리스트에서 첫번째 데이터를 pivot으로 설정\n",
        " 2. 왼쪽에서부터는 pivot보다 큰 데이터를 선택하고 오른쪽에서부터는 pivot보다 작은 데이터를 선택한다.\n",
        " 3. 선택된 두 데이터의 자리를 바꾼다.\n",
        " 4. 만약 선택된 큰 데이터가 작은데이터보다 오른쪽에 위치하면 작은데이터를 pivot과 자리를 바꾼다.\n",
        " 5. 그러면 pivot보다 작은 왼쪽 partition, pivot보다 큰 오른쪽 partition이 생성되는데, 왼쪽 partition과 오른쪽 partition에서 각각 1-4를 수행한다."
      ]
    },
    {
      "cell_type": "code",
      "metadata": {
        "colab": {
          "base_uri": "https://localhost:8080/"
        },
        "id": "3vONAg0VnfEB",
        "outputId": "43843c0a-d9d0-42d0-e2b3-c9cf4e1ad513"
      },
      "source": [
        "data = [7, 5, 9, 0, 3, 1, 6, 2, 4, 8]\n",
        "\n",
        "def quick(array, start, end):\n",
        "  if start >= end:\n",
        "    return\n",
        "  \n",
        "  # 시작 index 설정\n",
        "  pivot = start # 맨 앞 데이터를 pivot으로 지정\n",
        "  left = start + 1 # 왼쪽에서부터 시작\n",
        "  right = end  # 오른쪽에서부터 시작\n",
        "  \n",
        "  # (2번 과정)\n",
        "  while left <= right: \n",
        "    while left <= end and array[left] <= array[pivot]: # pivot보다 큰 left 찾을 때까지 index 추가하면서 search\n",
        "      left += 1\n",
        "    while right > start and array[right] >= array[pivot]: # pivot보다 작은 right 찾을때까지 index 감소하면서 search\n",
        "      right -= 1\n",
        "\n",
        "    if left > right: # 방향이 엇갈리면 pivot과 작은데이터 자리 바꿈(4번 과정)\n",
        "      array[pivot], array[right] = array[right], array[pivot]\n",
        "    else: # (3번 과정)\n",
        "      array[left], array[right] = array[right], array[left]\n",
        "\n",
        "  # (5번 과정)  \n",
        "  quick(array, start, right-1) # right인 이유 - pivot의 index가 right로 swap 되었기 때문!\n",
        "  quick(array, right+1, end)\n",
        "\n",
        "quick(data, 0, len(data)-1)\n",
        "print(data)"
      ],
      "execution_count": 5,
      "outputs": [
        {
          "output_type": "stream",
          "text": [
            "[0, 1, 2, 3, 4, 5, 6, 7, 8, 9]\n"
          ],
          "name": "stdout"
        }
      ]
    },
    {
      "cell_type": "markdown",
      "metadata": {
        "id": "VQfex9KjrXyL"
      },
      "source": [
        "## 4. 계수 정렬\n",
        "계수정렬은 특정한 조건이 선행됐을때만 사용할 수 있는 정렬 알고리즘이다. 조건은 다음과 같다.\n",
        " 1. 데이터의 범위가 제한된 정수로 표현(1,000,000)\n",
        " 2. 데이터의 min과 max의 차이가 크지 않아야 함"
      ]
    },
    {
      "cell_type": "code",
      "metadata": {
        "colab": {
          "base_uri": "https://localhost:8080/"
        },
        "id": "7kZjLf0Kr5ex",
        "outputId": "558260c2-2b72-4e33-d573-a7c92afcbe76"
      },
      "source": [
        "data = [7, 5, 9, 0, 3, 1, 6, 2, 9, 1, 4, 8, 0, 5, 2]\n",
        "\n",
        "count = [0] * (max(data)+1) # 0~최대까지 포함할 수 있는 리스트 생성\n",
        "\n",
        "for i in range(len(data)):\n",
        "  count[data[i]] += 1\n",
        "\n",
        "for i in range(len(count)):\n",
        "  for j in range(count[i]):\n",
        "    print(i, end = ' ')"
      ],
      "execution_count": 8,
      "outputs": [
        {
          "output_type": "stream",
          "text": [
            "0 0 1 1 2 2 3 4 5 5 6 7 8 9 9 "
          ],
          "name": "stdout"
        }
      ]
    }
  ]
}