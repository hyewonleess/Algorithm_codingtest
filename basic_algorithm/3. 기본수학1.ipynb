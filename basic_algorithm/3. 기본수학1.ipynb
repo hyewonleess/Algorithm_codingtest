{
 "cells": [
  {
   "cell_type": "markdown",
   "metadata": {},
   "source": [
    "## 기본수학1"
   ]
  },
  {
   "cell_type": "markdown",
   "metadata": {},
   "source": [
    "#### 1712번"
   ]
  },
  {
   "cell_type": "code",
   "execution_count": 12,
   "metadata": {},
   "outputs": [
    {
     "name": "stdout",
     "output_type": "stream",
     "text": [
      "3 2 1\n",
      "-1\n"
     ]
    }
   ],
   "source": [
    "# 시간초과\n",
    "A, B, C = map(int,input().split())\n",
    "n = 0\n",
    "\n",
    "if B < C:\n",
    "    while A+B*n >= C*n:\n",
    "        n += 1\n",
    "    print(n)\n",
    "else:\n",
    "    print(-1)"
   ]
  },
  {
   "cell_type": "code",
   "execution_count": 16,
   "metadata": {},
   "outputs": [
    {
     "name": "stdout",
     "output_type": "stream",
     "text": [
      "1000 70 170\n",
      "11\n"
     ]
    }
   ],
   "source": [
    "A, B, C = map(int,input().split())\n",
    "if B>=C:\n",
    "    print(-1)\n",
    "else:\n",
    "    print(int(A/(C-B)+1))"
   ]
  },
  {
   "cell_type": "markdown",
   "metadata": {},
   "source": [
    "#### 2292번"
   ]
  },
  {
   "cell_type": "code",
   "execution_count": 26,
   "metadata": {},
   "outputs": [
    {
     "name": "stdout",
     "output_type": "stream",
     "text": [
      "4\n",
      "2\n"
     ]
    }
   ],
   "source": [
    "# 계차수열 이용\n",
    "N = int(input())\n",
    "\n",
    "seq = []\n",
    "seq.insert(0,1)\n",
    "for i in range(1,N):\n",
    "    seq.insert(i,seq[i-1]+6*i)\n",
    "\n",
    "for i in range(1, len(seq)):\n",
    "    if (N>=seq[i-1]) & (N<seq[i]):\n",
    "        print(i+1)"
   ]
  },
  {
   "cell_type": "code",
   "execution_count": 41,
   "metadata": {},
   "outputs": [
    {
     "name": "stdout",
     "output_type": "stream",
     "text": [
      "58\n",
      "5\n"
     ]
    }
   ],
   "source": [
    "N = int(input())\n",
    "count = 1; cnt=1; std = 1;\n",
    "while N > cnt:\n",
    "    count += 1\n",
    "    cnt += (6* std)\n",
    "    std += 1\n",
    "print(count)"
   ]
  },
  {
   "cell_type": "markdown",
   "metadata": {},
   "source": [
    "#### 1193번"
   ]
  },
  {
   "cell_type": "code",
   "execution_count": 50,
   "metadata": {},
   "outputs": [
    {
     "name": "stdout",
     "output_type": "stream",
     "text": [
      "14\n",
      "2/4\n"
     ]
    }
   ],
   "source": [
    "# 내 풀이\n",
    "n = int(input())\n",
    "s = 2; cnt = 1; std = 2\n",
    "while n>cnt:\n",
    "    s += 1\n",
    "    cnt += std\n",
    "    std += 1\n",
    "if s % 2 == 0:\n",
    "    print(str(cnt-n+1)+'/'+str(s-cnt+n-1))\n",
    "else:\n",
    "    print(str(s-cnt+n-1)+'/'+str(cnt-n+1))"
   ]
  },
  {
   "cell_type": "code",
   "execution_count": 51,
   "metadata": {},
   "outputs": [
    {
     "name": "stdout",
     "output_type": "stream",
     "text": [
      "14\n",
      "2/4\n"
     ]
    }
   ],
   "source": [
    "n = int(input())\n",
    "line = 1\n",
    "while n>line:\n",
    "    n -= line\n",
    "    line += 1\n",
    "if line % 2 == 0:\n",
    "    a = n\n",
    "    b = line-n+1\n",
    "else:\n",
    "    a = line-n+1\n",
    "    b = n\n",
    "print(a,'/',b,sep='')"
   ]
  },
  {
   "cell_type": "markdown",
   "metadata": {},
   "source": [
    "#### 2869번"
   ]
  },
  {
   "cell_type": "code",
   "execution_count": 100,
   "metadata": {},
   "outputs": [
    {
     "name": "stdout",
     "output_type": "stream",
     "text": [
      "2 1 5\n",
      "4\n"
     ]
    }
   ],
   "source": [
    "A, B, V = map(int,input().split())\n",
    "k = (V-B)/(A-B)\n",
    "print(int(k) if k == int(k) else int(k)+1)"
   ]
  },
  {
   "cell_type": "markdown",
   "metadata": {},
   "source": [
    "#### 10250번"
   ]
  },
  {
   "cell_type": "code",
   "execution_count": 58,
   "metadata": {},
   "outputs": [
    {
     "name": "stdout",
     "output_type": "stream",
     "text": [
      "1\n",
      "30 50 72\n",
      "1203\n"
     ]
    }
   ],
   "source": [
    "T = int(input())\n",
    "for t in range(T): \n",
    "    h,w,n = map(int,input().split())\n",
    "    if n%h == 0:\n",
    "        floor = h ;room = n//h;\n",
    "    else:\n",
    "        floor = n%h ;room = n//h+1\n",
    "    print(floor*100+room)"
   ]
  },
  {
   "cell_type": "markdown",
   "metadata": {},
   "source": [
    "#### 2775번"
   ]
  },
  {
   "cell_type": "code",
   "execution_count": 98,
   "metadata": {},
   "outputs": [
    {
     "name": "stdout",
     "output_type": "stream",
     "text": [
      "2\n",
      "1\n",
      "3\n",
      "6\n",
      "2\n",
      "3\n",
      "10\n"
     ]
    }
   ],
   "source": [
    "# my solution\n",
    "t = int(input())\n",
    "for i in range(t):\n",
    "    k = int(input())\n",
    "    n = int(input())\n",
    "    ppl = [[0 for _ in range(n)] for _ in range(k+1)] # indexing 주의\n",
    "    ppl[0][:n] =  range(1,n+1)\n",
    "    for i in range(1,k+1):\n",
    "        for j in range(n):\n",
    "            ppl[i][j] = sum(ppl[i-1][:j+1])\n",
    "    print(ppl[k][n-1])"
   ]
  },
  {
   "cell_type": "code",
   "execution_count": 99,
   "metadata": {},
   "outputs": [
    {
     "name": "stdout",
     "output_type": "stream",
     "text": [
      "1\n",
      "1\n",
      "3\n",
      "6\n"
     ]
    }
   ],
   "source": [
    "# alternative\n",
    "t = int(input())\n",
    "for i in range(t):\n",
    "    k = int(input())\n",
    "    n = int(input())\n",
    "    ppl = [i for i in range(1,n+1)]\n",
    "    for _ in range(k):\n",
    "        for j in range(1,n):\n",
    "            ppl[j] += ppl[j-1]b\n",
    "    print(ppl[j])"
   ]
  },
  {
   "cell_type": "markdown",
   "metadata": {},
   "source": [
    "#### 2839번"
   ]
  },
  {
   "cell_type": "code",
   "execution_count": 4,
   "metadata": {},
   "outputs": [
    {
     "name": "stdout",
     "output_type": "stream",
     "text": [
      "18\n",
      "4\n"
     ]
    }
   ],
   "source": [
    "n = int(input())\n",
    "bag = 0\n",
    "while n >= 0:\n",
    "    if n%5 == 0:\n",
    "        bag += n//5\n",
    "        print(bag)\n",
    "        break\n",
    "    n -= 3\n",
    "    bag += 1\n",
    "else:\n",
    "    print(-1)"
   ]
  },
  {
   "cell_type": "markdown",
   "metadata": {},
   "source": [
    "#### 1011번(답안 참고)"
   ]
  },
  {
   "cell_type": "code",
   "execution_count": 30,
   "metadata": {},
   "outputs": [
    {
     "name": "stdout",
     "output_type": "stream",
     "text": [
      "1\n",
      "1 2\n",
      "1\n"
     ]
    }
   ],
   "source": [
    "t = int(input())\n",
    "for i in range(t):\n",
    "    a, b = map(int,input().split())\n",
    "    dist = b-a\n",
    "    num = 1\n",
    "    while True:\n",
    "        if num**2 <= dist < (num+1)**2:\n",
    "            break\n",
    "        num += 1\n",
    "    if dist == num**2:\n",
    "        print(2*num-1)\n",
    "    elif num**2 < dist <= (num)**2+num:\n",
    "        print(2*num)\n",
    "    else:\n",
    "        print(2*num+1)"
   ]
  }
 ],
 "metadata": {
  "kernelspec": {
   "display_name": "Python 3",
   "language": "python",
   "name": "python3"
  },
  "language_info": {
   "codemirror_mode": {
    "name": "ipython",
    "version": 3
   },
   "file_extension": ".py",
   "mimetype": "text/x-python",
   "name": "python",
   "nbconvert_exporter": "python",
   "pygments_lexer": "ipython3",
   "version": "3.8.5"
  }
 },
 "nbformat": 4,
 "nbformat_minor": 4
}
