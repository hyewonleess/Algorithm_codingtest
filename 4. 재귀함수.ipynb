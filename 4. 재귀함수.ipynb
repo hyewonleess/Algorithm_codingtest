{
 "cells": [
  {
   "cell_type": "markdown",
   "metadata": {},
   "source": [
    "## 재귀함수\n",
    ": 함수 자신을 함수 안에서 다시 사용하는 함수"
   ]
  },
  {
   "cell_type": "markdown",
   "metadata": {},
   "source": [
    "#### 10872번"
   ]
  },
  {
   "cell_type": "code",
   "execution_count": 1,
   "metadata": {},
   "outputs": [],
   "source": [
    "def factorial(n):\n",
    "    if n == 0:\n",
    "        return 1\n",
    "    return n*factorial(n-1)"
   ]
  },
  {
   "cell_type": "code",
   "execution_count": 2,
   "metadata": {},
   "outputs": [
    {
     "name": "stdout",
     "output_type": "stream",
     "text": [
      "10\n",
      "3628800\n"
     ]
    }
   ],
   "source": [
    "n = int(input())\n",
    "print(factorial(n))"
   ]
  },
  {
   "cell_type": "markdown",
   "metadata": {},
   "source": [
    "#### 10870번"
   ]
  },
  {
   "cell_type": "code",
   "execution_count": 10,
   "metadata": {},
   "outputs": [],
   "source": [
    "def fibo(n):\n",
    "    if n<=1:\n",
    "        return n\n",
    "    else:\n",
    "        return fibo(n-1)+fibo(n-2)    "
   ]
  },
  {
   "cell_type": "code",
   "execution_count": 11,
   "metadata": {},
   "outputs": [
    {
     "data": {
      "text/plain": [
       "8"
      ]
     },
     "execution_count": 11,
     "metadata": {},
     "output_type": "execute_result"
    }
   ],
   "source": [
    "fibo(6)"
   ]
  },
  {
   "cell_type": "markdown",
   "metadata": {},
   "source": [
    "#### 2447번(나중에 다시 풀어보기!)"
   ]
  },
  {
   "cell_type": "code",
   "execution_count": 47,
   "metadata": {},
   "outputs": [
    {
     "name": "stdout",
     "output_type": "stream",
     "text": [
      "27\n",
      "***************************\n",
      "* ** ** ** ** ** ** ** ** *\n",
      "***************************\n",
      "***   ******   ******   ***\n",
      "* *   * ** *   * ** *   * *\n",
      "***   ******   ******   ***\n",
      "***************************\n",
      "* ** ** ** ** ** ** ** ** *\n",
      "***************************\n",
      "*********         *********\n",
      "* ** ** *         * ** ** *\n",
      "*********         *********\n",
      "***   ***         ***   ***\n",
      "* *   * *         * *   * *\n",
      "***   ***         ***   ***\n",
      "*********         *********\n",
      "* ** ** *         * ** ** *\n",
      "*********         *********\n",
      "***************************\n",
      "* ** ** ** ** ** ** ** ** *\n",
      "***************************\n",
      "***   ******   ******   ***\n",
      "* *   * ** *   * ** *   * *\n",
      "***   ******   ******   ***\n",
      "***************************\n",
      "* ** ** ** ** ** ** ** ** *\n",
      "***************************\n"
     ]
    }
   ],
   "source": [
    "def stars(n):\n",
    "    global maps\n",
    "    if n == 3 :\n",
    "        maps[0][:3] = maps[2][:3] = [1]*3\n",
    "        maps[1][:3] = [1, 0, 1]\n",
    "        return\n",
    "    \n",
    "    a = n//3\n",
    "    stars(n//3)\n",
    "    for i in range(3):\n",
    "        for j in range(3):\n",
    "            if i==1 and j==1:\n",
    "                continue\n",
    "            for k in range(a):\n",
    "                maps[a*i+k][a*j:a*(j+1)] = maps[k][:a]\n",
    "n = int(input())\n",
    "maps = [[0 for i in range(n)] for i in range(n)]\n",
    "stars(n)\n",
    "\n",
    "for i in maps:\n",
    "    for j in i:\n",
    "        if j:\n",
    "            print('*', end = '')\n",
    "        else:\n",
    "            print(' ', end = '')\n",
    "    print()"
   ]
  }
 ],
 "metadata": {
  "kernelspec": {
   "display_name": "Python 3",
   "language": "python",
   "name": "python3"
  },
  "language_info": {
   "codemirror_mode": {
    "name": "ipython",
    "version": 3
   },
   "file_extension": ".py",
   "mimetype": "text/x-python",
   "name": "python",
   "nbconvert_exporter": "python",
   "pygments_lexer": "ipython3",
   "version": "3.8.5"
  }
 },
 "nbformat": 4,
 "nbformat_minor": 4
}
